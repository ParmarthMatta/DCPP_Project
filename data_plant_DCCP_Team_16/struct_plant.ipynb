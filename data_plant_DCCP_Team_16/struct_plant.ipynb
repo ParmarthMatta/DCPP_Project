{
 "cells": [
  {
   "cell_type": "markdown",
   "id": "af30d587",
   "metadata": {},
   "source": [
    "# Importing libraries"
   ]
  },
  {
   "cell_type": "code",
   "execution_count": 1,
   "id": "d7019dca",
   "metadata": {},
   "outputs": [],
   "source": [
    "import pandas as pd"
   ]
  },
  {
   "cell_type": "markdown",
   "id": "d7b7cae8",
   "metadata": {},
   "source": [
    "# Read Struncted data provide for plant"
   ]
  },
  {
   "cell_type": "code",
   "execution_count": 2,
   "id": "1204feb5",
   "metadata": {},
   "outputs": [],
   "source": [
    "data = pd.read_excel(\"Plants_Database.xlsx\", sheet_name='Sheet1', header=0, usecols='E:J')\n",
    "data.rename(columns = {'MEDICINAL PLANTS':'Species_Name', 'Unnamed: 5':'Family_name',\n",
    "                      'Unnamed: 6':'Local_name','Unnamed: 7':'Common_name',\n",
    "                      'Unnamed: 8':'Parts_used','Unnamed: 9':'Medicinal_Use'}, inplace = True)\n"
   ]
  },
  {
   "cell_type": "markdown",
   "id": "b196b72f",
   "metadata": {},
   "source": [
    "# Indentify and drop invalid data"
   ]
  },
  {
   "cell_type": "code",
   "execution_count": 3,
   "id": "1d3ba0c1",
   "metadata": {},
   "outputs": [],
   "source": [
    "data.iloc[[487,713,714]]\n",
    "data.drop([487,713,714], axis=0, inplace=True)"
   ]
  },
  {
   "cell_type": "markdown",
   "id": "844f81e6",
   "metadata": {},
   "source": [
    "# Create csv file for Structured data after cleaning"
   ]
  },
  {
   "cell_type": "code",
   "execution_count": 4,
   "id": "f9aaddc4",
   "metadata": {},
   "outputs": [],
   "source": [
    "data.to_csv('data_plant_structured.csv')"
   ]
  }
 ],
 "metadata": {
  "kernelspec": {
   "display_name": "Python 3 (ipykernel)",
   "language": "python",
   "name": "python3"
  },
  "language_info": {
   "codemirror_mode": {
    "name": "ipython",
    "version": 3
   },
   "file_extension": ".py",
   "mimetype": "text/x-python",
   "name": "python",
   "nbconvert_exporter": "python",
   "pygments_lexer": "ipython3",
   "version": "3.9.7"
  }
 },
 "nbformat": 4,
 "nbformat_minor": 5
}
