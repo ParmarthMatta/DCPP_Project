{
 "cells": [
  {
   "cell_type": "markdown",
   "id": "0776f1c2",
   "metadata": {},
   "source": [
    "# Importing libraries"
   ]
  },
  {
   "cell_type": "code",
   "execution_count": 1,
   "id": "27634ef1",
   "metadata": {},
   "outputs": [],
   "source": [
    "from bs4 import BeautifulSoup\n",
    "import requests\n",
    "import pandas as pd\n",
    "import string "
   ]
  },
  {
   "cell_type": "markdown",
   "id": "ddfad4c7",
   "metadata": {},
   "source": [
    "# Declare common global object"
   ]
  },
  {
   "cell_type": "code",
   "execution_count": 2,
   "id": "83f9adc2",
   "metadata": {},
   "outputs": [],
   "source": [
    "completeUrl = []\n",
    "# Change letter=? , which letter detail you want to scrap\n",
    "plantes_by_Alphabet = 'letter=Z'\n",
    "pagenoword ='Showing 100 of '\n",
    "data_plant = None\n",
    "keywords =['root','stem','leave','fruit','latex','bark' ,'pulp', 'flower' ,'whole plant' ,\n",
    "           'seed','exudate','nuts','sap','rhizome','bulb','twig','pod','wood','tuber']"
   ]
  },
  {
   "cell_type": "markdown",
   "id": "c1034888",
   "metadata": {},
   "source": [
    "# Custom funtion to find the index of word in text"
   ]
  },
  {
   "cell_type": "code",
   "execution_count": 3,
   "id": "62b2da3b",
   "metadata": {},
   "outputs": [],
   "source": [
    "def using_str_index_lst (word, sentence):\n",
    "    lst = []\n",
    "    index = 0;\n",
    "    count = 0;\n",
    "    while index < len(sentence):\n",
    "            index = sentence.find(word, index)\n",
    "            count = count + 1;\n",
    "            if index == -1:\n",
    "                break\n",
    "            lst.append(index)\n",
    "            index += len(word)\n",
    "    return lst\n"
   ]
  },
  {
   "cell_type": "markdown",
   "id": "2794a042",
   "metadata": {},
   "source": [
    "# Custom function to remove special characters"
   ]
  },
  {
   "cell_type": "code",
   "execution_count": 4,
   "id": "ef6018e9",
   "metadata": {},
   "outputs": [],
   "source": [
    "rmPunctuation = string.punctuation \n",
    "rmPunctuation.replace('.','')\n",
    "\n",
    "def remove_punctuation(text):\n",
    "    result = []\n",
    "    file = text\n",
    "    text= text.replace('<br>','')\n",
    "    text= text.replace('\\n','')\n",
    "    text= text.replace('\\r','')\n",
    "    text= text.replace('$',' ')\n",
    "    for line in file:\n",
    "         for char in line:\n",
    "            if char not in rmPunctuation:\n",
    "                result.append(char)\n",
    "    result = ''.join(result)\n",
    "    result.replace('br','')\n",
    "    return result"
   ]
  },
  {
   "cell_type": "markdown",
   "id": "14ad9e4a",
   "metadata": {},
   "source": [
    "# Custom funtion to find keywords in text and return found keywords"
   ]
  },
  {
   "cell_type": "code",
   "execution_count": 5,
   "id": "caa4c4d1",
   "metadata": {},
   "outputs": [],
   "source": [
    "def find_word_retun_allword(keywords,text):\n",
    "    foundword = ''\n",
    "    for word in keywords:\n",
    "        if text.find(word) != -1 :\n",
    "            foundword += ',' + word\n",
    "    \n",
    "    return foundword[1:]"
   ]
  },
  {
   "cell_type": "markdown",
   "id": "3e34ac89",
   "metadata": {},
   "source": [
    "# Custom function to find page number to navigate "
   ]
  },
  {
   "cell_type": "code",
   "execution_count": 6,
   "id": "5ea3f409",
   "metadata": {},
   "outputs": [],
   "source": [
    "def find_page_count(text,searchtext):\n",
    "    pageno = 0\n",
    "    pagenumber =[]\n",
    "    searchtextlen = len(searchtext)\n",
    "    startpoint = using_str_index_lst('Showing 100 of ',text)\n",
    "    if len(startpoint) > 0:\n",
    "        startpoint = startpoint[0]+searchtextlen\n",
    "        endpoint = using_str_index_lst(' ',text[startpoint:])\n",
    "        endpoint = endpoint[0]\n",
    "        pagenumber = text[startpoint:startpoint+endpoint]\n",
    "    if len(pagenumber) > 0:\n",
    "        pageno = int(pagenumber)\n",
    "    else:\n",
    "        pageno = 0\n",
    "    return pageno"
   ]
  },
  {
   "cell_type": "code",
   "execution_count": 7,
   "id": "7c7400b4",
   "metadata": {},
   "outputs": [],
   "source": [
    "\n",
    "URL = 'https://tropical.theferns.info/letter-index.php?letter=A&amount=100&pageno=0'\n",
    "headers = {'User-Agent': \"Mozilla/5.0 (Windows NT 10.0; Win64; x64) \\\n",
    "AppleWebKit/537.36 (KHTML, like Gecko) Chrome/42.0.2311.135 Safari/537.36 Edge/12.246\"}\n",
    "URL =URL.replace('letter=A',plantes_by_Alphabet)\n",
    "r = requests.get(url=URL, headers=headers)"
   ]
  },
  {
   "cell_type": "code",
   "execution_count": 8,
   "id": "20774db5",
   "metadata": {},
   "outputs": [],
   "source": [
    "soup = BeautifulSoup(r.content, 'html.parser')# 'html5lib')"
   ]
  },
  {
   "cell_type": "code",
   "execution_count": 9,
   "id": "f44d3110",
   "metadata": {},
   "outputs": [],
   "source": [
    "a_tag = soup.find_all(\"a\")"
   ]
  },
  {
   "cell_type": "code",
   "execution_count": 10,
   "id": "60d8d094",
   "metadata": {},
   "outputs": [],
   "source": [
    "urllist = []\n",
    "for tag in a_tag:\n",
    "    urllist.append(tag.get('href'))"
   ]
  },
  {
   "cell_type": "code",
   "execution_count": 11,
   "id": "9ff01e7f",
   "metadata": {},
   "outputs": [],
   "source": [
    "if None in urllist:\n",
    "    urllist.remove(None)"
   ]
  },
  {
   "cell_type": "code",
   "execution_count": 12,
   "id": "bcb42c1c",
   "metadata": {},
   "outputs": [],
   "source": [
    "subs = 'viewtropical'\n",
    "urllist = [i for i in urllist if subs in i]"
   ]
  },
  {
   "cell_type": "code",
   "execution_count": 13,
   "id": "4ef2e7e2",
   "metadata": {},
   "outputs": [],
   "source": [
    "for item in urllist:\n",
    "    item = 'https://tropical.theferns.info/'+item\n",
    "    completeUrl.append(item)"
   ]
  },
  {
   "cell_type": "code",
   "execution_count": 14,
   "id": "c66bdccd",
   "metadata": {},
   "outputs": [],
   "source": [
    "maxpage = find_page_count(str(soup),pagenoword)\n",
    "# maxpage"
   ]
  },
  {
   "cell_type": "code",
   "execution_count": 15,
   "id": "4d34b014",
   "metadata": {},
   "outputs": [],
   "source": [
    "for page in range(100,maxpage,100):\n",
    "    URL = 'https://tropical.theferns.info/letter-index.php?letter=A&amount=100&pageno=0'\n",
    "    URL =URL.replace('letter=A',plantes_by_Alphabet)\n",
    "    URL = URL.replace('pageno=0','pageno='+str(page))\n",
    "    r = requests.get(URL, headers=headers)\n",
    "    soup = BeautifulSoup(r.content, 'html.parser')# 'html5lib')\n",
    "    a_tag = soup.find_all(\"a\")\n",
    "    urllist = []\n",
    "    for tag in a_tag:\n",
    "        urllist.append(tag.get('href'))\n",
    "    if None in urllist:\n",
    "        urllist.remove(None)\n",
    "    subs = 'viewtropical'\n",
    "    urllist = [i for i in urllist if subs in i]\n",
    "    for item in urllist:\n",
    "        item = 'https://tropical.theferns.info/'+item\n",
    "        completeUrl.append(item)\n",
    "    "
   ]
  },
  {
   "cell_type": "markdown",
   "id": "ef2d1064",
   "metadata": {},
   "source": [
    "# Custom method for webscaping for specific url and returns dataframe"
   ]
  },
  {
   "cell_type": "code",
   "execution_count": 16,
   "id": "0582f2b7",
   "metadata": {},
   "outputs": [],
   "source": [
    "def scrap_data_web(url,data_plant):\n",
    "    URL = url\n",
    "    headers = {'User-Agent': \"Mozilla/5.0 (Windows NT 10.0; Win64; x64) \\\n",
    "AppleWebKit/537.36 (KHTML, like Gecko) Chrome/42.0.2311.135 Safari/537.36 Edge/12.246\"}\n",
    "    r = requests.get(url=URL, headers=headers)\n",
    "    soup = BeautifulSoup(r.content, 'html.parser')# 'html5lib')\n",
    "    latin_name = soup.find_all(\"div\",class_ = 'latin_name')\n",
    "    latin_name = soup.find_all('h1')\n",
    "    family = soup.find_all('h4')\n",
    "    Medicinal = soup.find_all('h3')\n",
    "    Species_Name = latin_name[0].text\n",
    "    family_name = family[1].text\n",
    "    common_name = family[2].text.replace('Common Name:','')\n",
    "    textpage=soup\n",
    "    textpage = str(textpage)\n",
    "    start_point = using_str_index_lst('<h3>Medicinal', textpage)\n",
    "    \n",
    "    if len(start_point) != 0:\n",
    "    \n",
    "        if len(using_str_index_lst('Agroforestry Uses:', textpage)) == 0:\n",
    "            end_point = using_str_index_lst('<h3>Other Uses', textpage)\n",
    "        else:\n",
    "            end_point = using_str_index_lst('Agroforestry Uses:', textpage)\n",
    "\n",
    "        textpage = textpage[start_point[0]:end_point[0]]\n",
    "        remove_start = using_str_index_lst('[', textpage)\n",
    "        remove_end = using_str_index_lst(']', textpage)\n",
    "        if(len(remove_start)== len(remove_end)):\n",
    "            for i in range(len(remove_start)):\n",
    "                textpage = textpage.replace(textpage[remove_start[i]:remove_end[i]+1], '$'*(remove_end[i]+1-remove_start[i]))\n",
    "\n",
    "            Medicinal_Use = remove_punctuation(textpage[17:])\n",
    "        else:\n",
    "            Medicinal_Use = ''\n",
    "    else:\n",
    "        Medicinal_Use = ''\n",
    "        \n",
    "        Medicinal_Use.replace('br\\n','')   \n",
    "        \n",
    "    data = []\n",
    "    local_name = ''\n",
    "    parts_used = ''\n",
    "    parts_used = find_word_retun_allword(keywords,Medicinal_Use.lower ())\n",
    "    data = [Species_Name,family_name,local_name,common_name.strip(),parts_used,Medicinal_Use]\n",
    "    \n",
    "    d = {'Species_Name': [data[0]], 'Family_name':  [data[1]], 'Local_name':  local_name, 'Common_name': [data[3] ],'Parts_used':parts_used,'Medicinal_Use':[data[5]] }\n",
    "    ndf = pd.DataFrame(d)\n",
    "\n",
    "    return ndf"
   ]
  },
  {
   "cell_type": "markdown",
   "id": "63a6a57b",
   "metadata": {},
   "source": [
    "# Calling webscraping method for each url"
   ]
  },
  {
   "cell_type": "code",
   "execution_count": 17,
   "id": "ff079dd6",
   "metadata": {},
   "outputs": [],
   "source": [
    "for url in completeUrl:\n",
    "    d = scrap_data_web(url,data_plant)\n",
    "    if data_plant is not None:\n",
    "        data_plant = data_plant.append(d, ignore_index = True )\n",
    "    else:\n",
    "        data_plant = pd.DataFrame(d)\n",
    "    "
   ]
  },
  {
   "cell_type": "markdown",
   "id": "14bae5e3",
   "metadata": {},
   "source": [
    "# Clean dataframe"
   ]
  },
  {
   "cell_type": "code",
   "execution_count": 18,
   "id": "35f2e8ee",
   "metadata": {},
   "outputs": [],
   "source": [
    "data_plant['Medicinal_Use'] = data_plant['Medicinal_Use'].str.replace('None knownbr\\n','None known')"
   ]
  },
  {
   "cell_type": "code",
   "execution_count": 19,
   "id": "13213cf9",
   "metadata": {},
   "outputs": [
    {
     "data": {
      "text/html": [
       "<div>\n",
       "<style scoped>\n",
       "    .dataframe tbody tr th:only-of-type {\n",
       "        vertical-align: middle;\n",
       "    }\n",
       "\n",
       "    .dataframe tbody tr th {\n",
       "        vertical-align: top;\n",
       "    }\n",
       "\n",
       "    .dataframe thead th {\n",
       "        text-align: right;\n",
       "    }\n",
       "</style>\n",
       "<table border=\"1\" class=\"dataframe\">\n",
       "  <thead>\n",
       "    <tr style=\"text-align: right;\">\n",
       "      <th></th>\n",
       "      <th>Species_Name</th>\n",
       "      <th>Family_name</th>\n",
       "      <th>Local_name</th>\n",
       "      <th>Common_name</th>\n",
       "      <th>Parts_used</th>\n",
       "      <th>Medicinal_Use</th>\n",
       "    </tr>\n",
       "  </thead>\n",
       "  <tbody>\n",
       "    <tr>\n",
       "      <th>0</th>\n",
       "      <td>Zaleya pentandra</td>\n",
       "      <td>Aizoaceae</td>\n",
       "      <td></td>\n",
       "      <td></td>\n",
       "      <td>sap</td>\n",
       "      <td>The aboveground parts of the plant are used as...</td>\n",
       "    </tr>\n",
       "    <tr>\n",
       "      <th>1</th>\n",
       "      <td>Zamia angustifolia</td>\n",
       "      <td>Zamiaceae</td>\n",
       "      <td></td>\n",
       "      <td>Yuquilla de Paredón</td>\n",
       "      <td></td>\n",
       "      <td>None known</td>\n",
       "    </tr>\n",
       "    <tr>\n",
       "      <th>2</th>\n",
       "      <td>Zamia chigua</td>\n",
       "      <td>Zamiaceae</td>\n",
       "      <td></td>\n",
       "      <td>Chigua Macho</td>\n",
       "      <td></td>\n",
       "      <td>None known</td>\n",
       "    </tr>\n",
       "    <tr>\n",
       "      <th>3</th>\n",
       "      <td>Zamia erosa</td>\n",
       "      <td>Zamiaceae</td>\n",
       "      <td></td>\n",
       "      <td></td>\n",
       "      <td></td>\n",
       "      <td>None known</td>\n",
       "    </tr>\n",
       "    <tr>\n",
       "      <th>4</th>\n",
       "      <td>Zamia integrifolia</td>\n",
       "      <td>Zamiaceae</td>\n",
       "      <td></td>\n",
       "      <td>Florida Arrowroot</td>\n",
       "      <td></td>\n",
       "      <td>None knownh3</td>\n",
       "    </tr>\n",
       "    <tr>\n",
       "      <th>...</th>\n",
       "      <td>...</td>\n",
       "      <td>...</td>\n",
       "      <td>...</td>\n",
       "      <td>...</td>\n",
       "      <td>...</td>\n",
       "      <td>...</td>\n",
       "    </tr>\n",
       "    <tr>\n",
       "      <th>80</th>\n",
       "      <td>Zornia leptophylla</td>\n",
       "      <td>Fabaceae</td>\n",
       "      <td></td>\n",
       "      <td></td>\n",
       "      <td></td>\n",
       "      <td>None known</td>\n",
       "    </tr>\n",
       "    <tr>\n",
       "      <th>81</th>\n",
       "      <td>Zornia piurensis</td>\n",
       "      <td>Fabaceae</td>\n",
       "      <td></td>\n",
       "      <td>Hierba de la Vibora</td>\n",
       "      <td>whole plant</td>\n",
       "      <td>A decoction of the whole plant combined with C...</td>\n",
       "    </tr>\n",
       "    <tr>\n",
       "      <th>82</th>\n",
       "      <td>Zuelania guidonia</td>\n",
       "      <td>Salicaceae</td>\n",
       "      <td></td>\n",
       "      <td></td>\n",
       "      <td>stem,bark</td>\n",
       "      <td>A gum obtained from the stem is emeticbr\\r\\nTh...</td>\n",
       "    </tr>\n",
       "    <tr>\n",
       "      <th>83</th>\n",
       "      <td>Zygia latifolia</td>\n",
       "      <td>Fabaceae</td>\n",
       "      <td></td>\n",
       "      <td></td>\n",
       "      <td>bark</td>\n",
       "      <td>The inner bark rasped is in a cold water infus...</td>\n",
       "    </tr>\n",
       "    <tr>\n",
       "      <th>84</th>\n",
       "      <td>Zygia racemosa</td>\n",
       "      <td>Fabaceae</td>\n",
       "      <td></td>\n",
       "      <td>Marblewood</td>\n",
       "      <td></td>\n",
       "      <td>None known</td>\n",
       "    </tr>\n",
       "  </tbody>\n",
       "</table>\n",
       "<p>85 rows × 6 columns</p>\n",
       "</div>"
      ],
      "text/plain": [
       "          Species_Name Family_name Local_name          Common_name  \\\n",
       "0     Zaleya pentandra   Aizoaceae                                   \n",
       "1   Zamia angustifolia   Zamiaceae             Yuquilla de Paredón   \n",
       "2         Zamia chigua   Zamiaceae                    Chigua Macho   \n",
       "3          Zamia erosa   Zamiaceae                                   \n",
       "4   Zamia integrifolia   Zamiaceae               Florida Arrowroot   \n",
       "..                 ...         ...        ...                  ...   \n",
       "80  Zornia leptophylla    Fabaceae                                   \n",
       "81    Zornia piurensis    Fabaceae             Hierba de la Vibora   \n",
       "82   Zuelania guidonia  Salicaceae                                   \n",
       "83     Zygia latifolia    Fabaceae                                   \n",
       "84      Zygia racemosa    Fabaceae                      Marblewood   \n",
       "\n",
       "     Parts_used                                      Medicinal_Use  \n",
       "0           sap  The aboveground parts of the plant are used as...  \n",
       "1                                                       None known  \n",
       "2                                                       None known  \n",
       "3                                                       None known  \n",
       "4                                                     None knownh3  \n",
       "..          ...                                                ...  \n",
       "80                                                      None known  \n",
       "81  whole plant  A decoction of the whole plant combined with C...  \n",
       "82    stem,bark  A gum obtained from the stem is emeticbr\\r\\nTh...  \n",
       "83         bark  The inner bark rasped is in a cold water infus...  \n",
       "84                                                      None known  \n",
       "\n",
       "[85 rows x 6 columns]"
      ]
     },
     "execution_count": 19,
     "metadata": {},
     "output_type": "execute_result"
    }
   ],
   "source": [
    "data_plant"
   ]
  },
  {
   "cell_type": "markdown",
   "id": "e8e9a1a3",
   "metadata": {},
   "source": [
    "# Create csv and json file from dataframe"
   ]
  },
  {
   "cell_type": "code",
   "execution_count": 20,
   "id": "d4a633f3",
   "metadata": {},
   "outputs": [],
   "source": [
    "data_plant.to_csv('data_plant'+plantes_by_Alphabet+'.csv')\n",
    "data_plant.to_json('data_plant'+plantes_by_Alphabet+'.json',orient ='records')"
   ]
  }
 ],
 "metadata": {
  "kernelspec": {
   "display_name": "Python 3 (ipykernel)",
   "language": "python",
   "name": "python3"
  },
  "language_info": {
   "codemirror_mode": {
    "name": "ipython",
    "version": 3
   },
   "file_extension": ".py",
   "mimetype": "text/x-python",
   "name": "python",
   "nbconvert_exporter": "python",
   "pygments_lexer": "ipython3",
   "version": "3.9.7"
  }
 },
 "nbformat": 4,
 "nbformat_minor": 5
}
